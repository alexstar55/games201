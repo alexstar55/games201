{
 "cells": [
  {
   "cell_type": "code",
   "execution_count": 1,
   "metadata": {},
   "outputs": [
    {
     "name": "stdout",
     "output_type": "stream",
     "text": [
      "[Taichi] mode=release\n",
      "[Taichi] version 0.6.9, supported archs: [cpu, cuda, opengl], commit afd6650c, python 3.6.2\n"
     ]
    }
   ],
   "source": [
    "import taichi as ti"
   ]
  },
  {
   "cell_type": "code",
   "execution_count": 2,
   "metadata": {},
   "outputs": [
    {
     "name": "stdout",
     "output_type": "stream",
     "text": [
      "1.0\n"
     ]
    }
   ],
   "source": [
    "\n",
    "ti.init()\n",
    "a = ti.var(dt=ti.f32, shape=(42,63))\n",
    "a[3, 4]=1\n",
    "print(a[3, 4])"
   ]
  },
  {
   "cell_type": "markdown",
   "metadata": {},
   "source": [
    "### 优秀作业测试\n",
    "#### Homework 0: Fractal demo热爱者"
   ]
  },
  {
   "cell_type": "code",
   "execution_count": 4,
   "metadata": {},
   "outputs": [
    {
     "name": "stdout",
     "output_type": "stream",
     "text": [
      "Power of z -> 5\n"
     ]
    },
    {
     "ename": "KeyboardInterrupt",
     "evalue": "",
     "output_type": "error",
     "traceback": [
      "\u001b[0;31m----------------------------------------------------------------\u001b[0m",
      "\u001b[0;31mKeyboardInterrupt\u001b[0m              Traceback (most recent call last)",
      "\u001b[0;32m<ipython-input-4-05bd1f8f4227>\u001b[0m in \u001b[0;36m<module>\u001b[0;34m()\u001b[0m\n\u001b[1;32m     28\u001b[0m     \u001b[0mpaint\u001b[0m\u001b[0;34m(\u001b[0m\u001b[0mi\u001b[0m \u001b[0;34m*\u001b[0m \u001b[0;36m0.03\u001b[0m\u001b[0;34m,\u001b[0m \u001b[0mpower\u001b[0m\u001b[0;34m)\u001b[0m\u001b[0;34m\u001b[0m\u001b[0m\n\u001b[1;32m     29\u001b[0m     \u001b[0mgui\u001b[0m\u001b[0;34m.\u001b[0m\u001b[0mset_image\u001b[0m\u001b[0;34m(\u001b[0m\u001b[0mpixels\u001b[0m\u001b[0;34m)\u001b[0m\u001b[0;34m\u001b[0m\u001b[0m\n\u001b[0;32m---> 30\u001b[0;31m     \u001b[0mgui\u001b[0m\u001b[0;34m.\u001b[0m\u001b[0mshow\u001b[0m\u001b[0;34m(\u001b[0m\u001b[0;34m)\u001b[0m\u001b[0;34m\u001b[0m\u001b[0m\n\u001b[0m",
      "\u001b[0;32m/home/alex/anaconda3/envs/taichi/lib/python3.6/site-packages/taichi/misc/gui.py\u001b[0m in \u001b[0;36mshow\u001b[0;34m(self, file)\u001b[0m\n\u001b[1;32m    187\u001b[0m \u001b[0;34m\u001b[0m\u001b[0m\n\u001b[1;32m    188\u001b[0m     \u001b[0;32mdef\u001b[0m \u001b[0mshow\u001b[0m\u001b[0;34m(\u001b[0m\u001b[0mself\u001b[0m\u001b[0;34m,\u001b[0m \u001b[0mfile\u001b[0m\u001b[0;34m=\u001b[0m\u001b[0;32mNone\u001b[0m\u001b[0;34m)\u001b[0m\u001b[0;34m:\u001b[0m\u001b[0;34m\u001b[0m\u001b[0m\n\u001b[0;32m--> 189\u001b[0;31m         \u001b[0mself\u001b[0m\u001b[0;34m.\u001b[0m\u001b[0mcore\u001b[0m\u001b[0;34m.\u001b[0m\u001b[0mupdate\u001b[0m\u001b[0;34m(\u001b[0m\u001b[0;34m)\u001b[0m\u001b[0;34m\u001b[0m\u001b[0m\n\u001b[0m\u001b[1;32m    190\u001b[0m         \u001b[0;32mif\u001b[0m \u001b[0mfile\u001b[0m\u001b[0;34m:\u001b[0m\u001b[0;34m\u001b[0m\u001b[0m\n\u001b[1;32m    191\u001b[0m             \u001b[0mself\u001b[0m\u001b[0;34m.\u001b[0m\u001b[0mcore\u001b[0m\u001b[0;34m.\u001b[0m\u001b[0mscreenshot\u001b[0m\u001b[0;34m(\u001b[0m\u001b[0mfile\u001b[0m\u001b[0;34m)\u001b[0m\u001b[0;34m\u001b[0m\u001b[0m\n",
      "\u001b[0;31mKeyboardInterrupt\u001b[0m: "
     ]
    }
   ],
   "source": [
    "ti.init(arch=ti.gpu)\n",
    "n = 320\n",
    "pixels = ti.var(dt=ti.f32, shape=(n * 2, n))\n",
    "\n",
    "@ti.func\n",
    "def complex_power(z, power: ti.i32):\n",
    "    r = ti.sqrt(z[0]**2 + z[1]**2)\n",
    "    theta = ti.atan2(z[1], z[0])\n",
    "    return ti.Vector([r**power * ti.cos(power*theta), r**power * ti.sin(power*theta)])\n",
    "\n",
    "@ti.kernel\n",
    "def paint(t: ti.f32, power: ti.i32):\n",
    "    for i, j in pixels:  # Parallized over all pixels\n",
    "        freq = 1.0 / power\n",
    "        c = ti.Vector([0.7885 * ti.cos(freq*t), 0.7885 * ti.sin(freq*t)])\n",
    "        z = ti.Vector([i / n - 1, j / n - 0.5]) * 2\n",
    "\n",
    "        iterations = 0\n",
    "        while z.norm() < 20 and iterations < 50:\n",
    "            z = complex_power(z, power) + c\n",
    "            iterations += 1\n",
    "        pixels[i, j] = 1 - iterations * 0.02\n",
    "\n",
    "power = eval(input(\"Power of z -> \"))\n",
    "gui = ti.GUI(\"Julia Set\", res=(n * 2, n))\n",
    "\n",
    "for i in range(1000000):\n",
    "    paint(i * 0.03, power)\n",
    "    gui.set_image(pixels)\n",
    "    gui.show()"
   ]
  },
  {
   "cell_type": "markdown",
   "metadata": {},
   "source": [
    "```flow\n",
    "st=>start: 开始\n",
    "op=>operation: My Operation\n",
    "cond=>condition: Yes or No?\n",
    "e=>end\n",
    "st->op->cond\n",
    "cond(yes)->e\n",
    "cond(no)->op\n",
    "&```"
   ]
  },
  {
   "cell_type": "markdown",
   "metadata": {},
   "source": [
    "### Taichi中文文档学习"
   ]
  },
  {
   "cell_type": "markdown",
   "metadata": {},
   "source": [
    "#### 基本概念  \n",
    "##### Using external arrays as Taichi kernel parameters"
   ]
  },
  {
   "cell_type": "code",
   "execution_count": 5,
   "metadata": {},
   "outputs": [
    {
     "name": "stdout",
     "output_type": "stream",
     "text": [
      "[[ 0  0  0  0  0  0  0]\n",
      " [ 0  1  2  3  4  5  6]\n",
      " [ 0  2  4  6  8 10 12]\n",
      " [ 0  3  6  9 12 15 18]]\n",
      "a afer 1st func [[ 0  1  2  3  4  5  6]\n",
      " [ 1  3  5  7  9 11 13]\n",
      " [ 2  5  8 11 14 17 20]\n",
      " [ 3  7 11 15 19 23 27]]\n",
      "[[ 0  1  2  3  4  5  6]\n",
      " [ 1  3  5  7  9 11 13]\n",
      " [ 2  5  8 11 14 17 20]\n",
      " [ 3  7 11 15 19 23 27]]\n"
     ]
    }
   ],
   "source": [
    "import taichi as ti\n",
    "import numpy as np\n",
    "\n",
    "ti.init()\n",
    "\n",
    "n = 4\n",
    "m = 7\n",
    "\n",
    "val = ti.var(ti.i32, shape=(n, m))\n",
    "\n",
    "@ti.kernel\n",
    "def test_numpy(arr: ti.ext_arr()):\n",
    "    for i in range(n):\n",
    "        for j in range(m):\n",
    "            arr[i, j] += i + j\n",
    "\n",
    "a = np.empty(shape=(n, m), dtype=np.int32)\n",
    "\n",
    "for i in range(n):\n",
    "    for j in range(m):\n",
    "        a[i, j] = i * j\n",
    "print(a)\n",
    "test_numpy(a)\n",
    "print(\"a afer 1st func\", a)\n",
    "for i in range(n):\n",
    "    for j in range(m):\n",
    "        assert a[i, j] == i * j + i + j\n",
    "print(a)\n"
   ]
  },
  {
   "cell_type": "code",
   "execution_count": null,
   "metadata": {},
   "outputs": [],
   "source": []
  }
 ],
 "metadata": {
  "kernelspec": {
   "display_name": "Python [conda env:taichi]",
   "language": "python",
   "name": "conda-env-taichi-py"
  },
  "language_info": {
   "codemirror_mode": {
    "name": "ipython",
    "version": 3
   },
   "file_extension": ".py",
   "mimetype": "text/x-python",
   "name": "python",
   "nbconvert_exporter": "python",
   "pygments_lexer": "ipython3",
   "version": "3.6.10"
  },
  "toc": {
   "base_numbering": 1,
   "nav_menu": {},
   "number_sections": true,
   "sideBar": true,
   "skip_h1_title": false,
   "title_cell": "Table of Contents",
   "title_sidebar": "Contents",
   "toc_cell": false,
   "toc_position": {},
   "toc_section_display": true,
   "toc_window_display": true
  },
  "varInspector": {
   "cols": {
    "lenName": 16,
    "lenType": 16,
    "lenVar": 40
   },
   "kernels_config": {
    "python": {
     "delete_cmd_postfix": "",
     "delete_cmd_prefix": "del ",
     "library": "var_list.py",
     "varRefreshCmd": "print(var_dic_list())"
    },
    "r": {
     "delete_cmd_postfix": ") ",
     "delete_cmd_prefix": "rm(",
     "library": "var_list.r",
     "varRefreshCmd": "cat(var_dic_list()) "
    }
   },
   "types_to_exclude": [
    "module",
    "function",
    "builtin_function_or_method",
    "instance",
    "_Feature"
   ],
   "window_display": false
  }
 },
 "nbformat": 4,
 "nbformat_minor": 2
}
